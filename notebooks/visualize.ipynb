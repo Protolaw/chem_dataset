{
 "cells": [
  {
   "cell_type": "code",
   "execution_count": 1,
   "id": "e5625dff-df8e-4fb1-8ef8-f033f9812110",
   "metadata": {},
   "outputs": [],
   "source": [
    "import seaborn as sns\n",
    "import pandas as pd\n",
    "import matplotlib.pyplot as plt\n",
    "import os"
   ]
  },
  {
   "cell_type": "code",
   "execution_count": null,
   "id": "1fb51c38-e627-490c-a71f-eb2bc9810652",
   "metadata": {},
   "outputs": [],
   "source": [
    "def plot(df, path_graphs, buff):\n",
    "    fig, axes = plt.subplots(figsize=(20, 9))\n",
    "    sns.set_theme(style=\"whitegrid\")\n",
    "    res = sns.barplot(x=buff, y='molecules', data=df, ax=axes)\n",
    "    res.set_xlabel(buff, fontsize=20)\n",
    "    res.set_ylabel(\"molecules (%)\", fontsize=20)\n",
    "    for tick in axes.xaxis.get_major_ticks():\n",
    "        tick.label.set_fontsize(16)\n",
    "    for tick in axes.yaxis.get_major_ticks():\n",
    "        tick.label.set_fontsize(16)\n",
    "    inp = input('show, edit, save the plot or exit\\n')\n",
    "    if inp == 'show':\n",
    "        plt.show()\n",
    "        plot(df, path_graphs, buff)\n",
    "    if inp == 'edit':\n",
    "        max, min = input(\"Enter two values (max and min): \").split()\n",
    "        df = df[df[buff] < int(max)]\n",
    "        df = df[df[buff] > int(min)]\n",
    "        plot(df, path_graphs, buff)\n",
    "    if inp == 'save':\n",
    "        plt.savefig(os.path.join(path_graphs, buff + '.png'))\n",
    "    elif inp == 'exit':\n",
    "        exit()\n",
    "    return res"
   ]
  },
  {
   "cell_type": "code",
   "execution_count": null,
   "id": "25286aa1-5bd5-467c-bd5d-4057af1fa363",
   "metadata": {},
   "outputs": [],
   "source": [
    "def df_create(path_to_stat, buff):\n",
    "    data = pd.read_csv(path_to_stat)\n",
    "    df = pd.DataFrame(data)\n",
    "    df = df.sort_values(by=buff, ignore_index=True)\n",
    "    s = sum(df['molecules'])\n",
    "    df_proc = df.copy()\n",
    "    df_proc['molecules'] = df_proc['molecules'] / s * 100\n",
    "    return df_proc"
   ]
  },
  {
   "cell_type": "code",
   "execution_count": null,
   "id": "b876d48b-169f-4890-8434-be958ab5a2e3",
   "metadata": {},
   "outputs": [],
   "source": [
    "head_list = ['rot_bonds', 'h_acc', 'h_don', 'heavy_atoms', 'ring_count', 'bonds_count', 'mol_mass']\n",
    "path = os.getcwd()[:-17]\n",
    "stat_file = str()\n",
    "while stat_file not in head_list:\n",
    "    stat_file = input(\"Choose stat_file from list or 'exit'\\n\" + str(head_list) + '\\n')\n",
    "    if stat_file == 'exit':\n",
    "        exit()\n",
    "buff = stat_file\n",
    "stat_file = stat_file + '.csv'\n",
    "path_to_stat = os.path.join(path, \"data/stat/\", stat_file)\n",
    "path_graphs = os.path.join(path, \"reports/figures/\")\n",
    "df_proc = df_create(path_to_stat, buff)\n",
    "chart = plot(df_proc, path_graphs, buff)"
   ]
  }
 ],
 "metadata": {
  "kernelspec": {
   "display_name": "Python 3 (ipykernel)",
   "language": "python",
   "name": "python3"
  },
  "language_info": {
   "codemirror_mode": {
    "name": "ipython",
    "version": 3
   },
   "file_extension": ".py",
   "mimetype": "text/x-python",
   "name": "python",
   "nbconvert_exporter": "python",
   "pygments_lexer": "ipython3",
   "version": "3.8.10"
  }
 },
 "nbformat": 4,
 "nbformat_minor": 5
}
