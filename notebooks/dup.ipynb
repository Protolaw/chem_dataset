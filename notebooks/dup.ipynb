{
 "cells": [
  {
   "cell_type": "code",
   "execution_count": 2,
   "id": "6c99169c-6b5f-4889-9655-71aa99885b8c",
   "metadata": {},
   "outputs": [],
   "source": [
    "from CGRtools.files import SDFRead, SDFWrite, SMILESRead\n",
    "import csv\n",
    "import os\n",
    "from tqdm import tqdm"
   ]
  },
  {
   "cell_type": "code",
   "execution_count": null,
   "id": "2323d6fe-4665-4549-b0d1-c83679204dbc",
   "metadata": {},
   "outputs": [],
   "source": [
    "path = os.path.join(os.getcwd()[:-9], 'data/processed')\n",
    "file_in = os.path.join(path, 'valid/pubchem_test.csv')\n",
    "file_out = os.path.join(path, 'valid/clean.csv')\n",
    "file_mis = os.path.join(path, 'mis/dup.csv')"
   ]
  },
  {
   "cell_type": "code",
   "execution_count": 3,
   "id": "6e2bf45a-ea8c-49d5-91c1-e668689a0682",
   "metadata": {},
   "outputs": [],
   "source": [
    "def rm_dup(file_in, file_out, file_mis):\n",
    "    smiles_parser = SMILESRead.create_parser()\n",
    "    unique_hashes = set()\n",
    "    with open(file_in, 'r') as inp, \\\n",
    "            open(file_out, 'w', newline='\\n') as out, \\\n",
    "            open(file_mis, 'w', newline='\\n') as mis:\n",
    "        lines = csv.reader(inp, delimiter=',')\n",
    "        data = csv.writer(out, delimiter=',')\n",
    "        mis = csv.writer(mis, delimiter=',')\n",
    "        for line in tqdm(lines):\n",
    "            el = line[0].strip().split(',')\n",
    "            if el[0] == \"smiles\":\n",
    "                data.writerow(line)\n",
    "                mis.writerow(line)\n",
    "                continue\n",
    "            mol = smiles_parser(el[0])\n",
    "            length_before = len(unique_hashes)\n",
    "            try:\n",
    "                unique_hashes.add(hash(mol))\n",
    "            except TypeError:\n",
    "                mis.writerow(line)\n",
    "                continue\n",
    "            length_after = len(unique_hashes)\n",
    "            if length_before < length_after:\n",
    "                data.writerow(line)\n",
    "            else:\n",
    "                mis.writerow(line)"
   ]
  },
  {
   "cell_type": "code",
   "execution_count": 4,
   "id": "6a87309b-4cbb-44ff-b782-87b6af68e509",
   "metadata": {},
   "outputs": [],
   "source": [
    "rm_dup(file_in, file_out, file_mis)"
   ]
  }
 ],
 "metadata": {
  "kernelspec": {
   "display_name": "Python 3 (ipykernel)",
   "language": "python",
   "name": "python3"
  },
  "language_info": {
   "codemirror_mode": {
    "name": "ipython",
    "version": 3
   },
   "file_extension": ".py",
   "mimetype": "text/x-python",
   "name": "python",
   "nbconvert_exporter": "python",
   "pygments_lexer": "ipython3",
   "version": "3.8.10"
  }
 },
 "nbformat": 4,
 "nbformat_minor": 5
}
