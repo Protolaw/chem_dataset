{
 "cells": [
  {
   "cell_type": "code",
   "execution_count": 9,
   "metadata": {
    "tags": []
   },
   "outputs": [],
   "source": [
    "from random import shuffle\n",
    "from io import StringIO\n",
    "from itertools import chain, islice\n",
    "from subprocess import run\n",
    "from collections import defaultdict\n",
    "from time import time\n",
    "\n",
    "from CGRtools.files import SDFRead, SDFWrite, SMILESRead\n",
    "from CGRtools.exceptions import InvalidAromaticRing\n",
    "from multiprocessing import Pool\n",
    "\n",
    "import logging\n",
    "import pickle\n",
    "import warnings\n",
    "import os\n",
    "import csv\n",
    "from tqdm import tqdm"
   ]
  },
  {
   "cell_type": "code",
   "execution_count": 10,
   "metadata": {
    "collapsed": false,
    "jupyter": {
     "outputs_hidden": false
    },
    "pycharm": {
     "name": "#%%\n"
    }
   },
   "outputs": [],
   "source": [
    "names_transfrom = {'PUBCHEM_COMPOUND_CID': 'pubchem_id',\n",
    "'PUBCHEM_OPENEYE_CAN_SMILES' : 'pubchem_smiles',\n",
    "'PUBCHEM_IUPAC_OPENEYE_NAME' : 'iupac_name',\n",
    "'PUBCHEM_CACTVS_ROTATABLE_BOND' : 'rot_bonds',\n",
    "'PUBCHEM_XLOGP3_AA': 'logp',\n",
    "'PUBCHEM_CACTVS_HBOND_ACCEPTOR': 'h_acc',\n",
    "'PUBCHEM_CACTVS_HBOND_DONOR': 'h_don',\n",
    "'PUBCHEM_HEAVY_ATOM_COUNT': 'heavy_atoms',\n",
    "}\n",
    "module_headers = ['ring_count', 'mol_mass', 'bonds_count']"
   ]
  },
  {
   "cell_type": "code",
   "execution_count": 11,
   "metadata": {},
   "outputs": [],
   "source": [
    "def std_molecule(molecule):\n",
    "    id_mol = int(molecule.meta['PUBCHEM_COMPOUND_CID'])\n",
    "\n",
    "    if len(molecule) > 150 or len(molecule) < 2:\n",
    "        return id_mol\n",
    "    try:\n",
    "        molecule.kekule()\n",
    "    except InvalidAromaticRing:\n",
    "        return id_molLast\n",
    "\n",
    "    molecule.standardize(fix_stereo=False)\n",
    "    if molecule.is_radical:\n",
    "        return id_mol\n",
    "\n",
    "    if molecule.check_valence():\n",
    "        return id_mol\n",
    "\n",
    "    molecule.implicify_hydrogens(fix_stereo=False)\n",
    "    molecule.clean_stereo()\n",
    "\n",
    "    try:\n",
    "        molecule.thiele()\n",
    "    except InvalidAromaticRing:\n",
    "        return id_mol\n",
    "\n",
    "    conn_comp = molecule.connected_components_count\n",
    "    if conn_comp > 1:\n",
    "        return id_mol\n",
    "\n",
    "    metadata = []\n",
    "    for key in names_transfrom.keys():\n",
    "        if key in molecule.meta.keys():\n",
    "            metadata.append(molecule.meta[key])\n",
    "        else:\n",
    "            metadata.append('nan')\n",
    "\n",
    "    ring_count = molecule.rings_count\n",
    "    metadata.append(ring_count)\n",
    "    mol_mass = molecule.molecular_mass\n",
    "    metadata.append(mol_mass)\n",
    "    b_count = molecule.bonds_count\n",
    "    metadata.append(b_count)\n",
    "\n",
    "    return ([str(molecule)] + metadata)"
   ]
  },
  {
   "cell_type": "code",
   "execution_count": 12,
   "metadata": {},
   "outputs": [],
   "source": [
    "def run_std(readed_reactions):\n",
    "    with Pool(7) as p:\n",
    "        filtered_reactions = p.map(std_molecule, readed_reactions)\n",
    "    return filtered_reactions"
   ]
  },
  {
   "cell_type": "code",
   "execution_count": 13,
   "metadata": {},
   "outputs": [],
   "source": [
    "def handle_writing(readed_molecules, out, mistakes):\n",
    "    filtered_molecules = run_std(readed_molecules)\n",
    "    del readed_molecules\n",
    "    for new_mol in filtered_molecules:\n",
    "        if isinstance(new_mol, int):\n",
    "            mistakes.writerow([new_mol])\n",
    "        else:\n",
    "            out.writerow(new_mol)\n",
    "    del filtered_molecules"
   ]
  },
  {
   "cell_type": "code",
   "execution_count": 26,
   "metadata": {},
   "outputs": [],
   "source": [
    "def read_std_pubchem(file_name, path, out, mistakes, names_transfrom, size):\n",
    "    if file_name[-2:] == 'gz':\n",
    "        file = path + file_name\n",
    "        name = file[:-3]\n",
    "        print(name)\n",
    "        run([\"gunzip\", \"-k\", file])\n",
    "        readed_molecules = []\n",
    "        with SDFRead(name, indexable=True) as inp:\n",
    "            inp.reset_index()\n",
    "            for n, molecule in tqdm(enumerate(inp), total=len(inp)):\n",
    "                readed_molecules.append(molecule)\n",
    "                if len(readed_molecules) == size:\n",
    "                    handle_writing(readed_molecules, out, mistakes)\n",
    "                    readed_molecules = []\n",
    "            if readed_molecules:\n",
    "                handle_writing(readed_molecules, out, mistakes)\n",
    "        os.remove(name)"
   ]
  },
  {
   "cell_type": "code",
   "execution_count": null,
   "metadata": {},
   "outputs": [],
   "source": []
  },
  {
   "cell_type": "code",
   "execution_count": 27,
   "metadata": {},
   "outputs": [
    {
     "name": "stdout",
     "output_type": "stream",
     "text": [
      "../data/Compound_000000001_000500000.sdf\n"
     ]
    },
    {
     "name": "stderr",
     "output_type": "stream",
     "text": [
      "\n",
      "gzip: ../data/Compound_000000001_000500000.sdf.gz: unexpected end of file\n"
     ]
    },
    {
     "ename": "FileNotFoundError",
     "evalue": "[Errno 2] No such file or directory: '../data/Compound_000000001_000500000.sdf'",
     "output_type": "error",
     "traceback": [
      "\u001b[0;31m---------------------------------------------------------------------------\u001b[0m",
      "\u001b[0;31mFileNotFoundError\u001b[0m                         Traceback (most recent call last)",
      "\u001b[0;32m/tmp/ipykernel_15214/3132398014.py\u001b[0m in \u001b[0;36m<module>\u001b[0;34m\u001b[0m\n\u001b[1;32m      7\u001b[0m     \u001b[0msmi_writer\u001b[0m\u001b[0;34m.\u001b[0m\u001b[0mwriterow\u001b[0m\u001b[0;34m(\u001b[0m\u001b[0mfields_names\u001b[0m\u001b[0;34m)\u001b[0m\u001b[0;34m\u001b[0m\u001b[0;34m\u001b[0m\u001b[0m\n\u001b[1;32m      8\u001b[0m     \u001b[0mmistakes_writer\u001b[0m\u001b[0;34m.\u001b[0m\u001b[0mwriterow\u001b[0m\u001b[0;34m(\u001b[0m\u001b[0;34m[\u001b[0m\u001b[0;34m'pubchem_id'\u001b[0m\u001b[0;34m]\u001b[0m\u001b[0;34m)\u001b[0m\u001b[0;34m\u001b[0m\u001b[0;34m\u001b[0m\u001b[0m\n\u001b[0;32m----> 9\u001b[0;31m     \u001b[0mread_std_pubchem\u001b[0m\u001b[0;34m(\u001b[0m\u001b[0;34m'Compound_000000001_000500000.sdf.gz'\u001b[0m\u001b[0;34m,\u001b[0m \u001b[0;34m'../data/'\u001b[0m\u001b[0;34m,\u001b[0m \u001b[0msmi_writer\u001b[0m\u001b[0;34m,\u001b[0m \u001b[0mmistakes_writer\u001b[0m\u001b[0;34m,\u001b[0m \u001b[0mnames_transfrom\u001b[0m\u001b[0;34m,\u001b[0m \u001b[0;36m10000\u001b[0m\u001b[0;34m)\u001b[0m\u001b[0;34m\u001b[0m\u001b[0;34m\u001b[0m\u001b[0m\n\u001b[0m",
      "\u001b[0;32m/tmp/ipykernel_15214/605246792.py\u001b[0m in \u001b[0;36mread_std_pubchem\u001b[0;34m(file_name, path, out, mistakes, names_transfrom, size)\u001b[0m\n\u001b[1;32m      6\u001b[0m         \u001b[0mrun\u001b[0m\u001b[0;34m(\u001b[0m\u001b[0;34m[\u001b[0m\u001b[0;34m\"gunzip\"\u001b[0m\u001b[0;34m,\u001b[0m \u001b[0;34m\"-k\"\u001b[0m\u001b[0;34m,\u001b[0m \u001b[0mfile\u001b[0m\u001b[0;34m]\u001b[0m\u001b[0;34m)\u001b[0m\u001b[0;34m\u001b[0m\u001b[0;34m\u001b[0m\u001b[0m\n\u001b[1;32m      7\u001b[0m         \u001b[0mreaded_molecules\u001b[0m \u001b[0;34m=\u001b[0m \u001b[0;34m[\u001b[0m\u001b[0;34m]\u001b[0m\u001b[0;34m\u001b[0m\u001b[0;34m\u001b[0m\u001b[0m\n\u001b[0;32m----> 8\u001b[0;31m         \u001b[0;32mwith\u001b[0m \u001b[0mSDFRead\u001b[0m\u001b[0;34m(\u001b[0m\u001b[0mname\u001b[0m\u001b[0;34m,\u001b[0m \u001b[0mindexable\u001b[0m\u001b[0;34m=\u001b[0m\u001b[0;32mTrue\u001b[0m\u001b[0;34m)\u001b[0m \u001b[0;32mas\u001b[0m \u001b[0minp\u001b[0m\u001b[0;34m:\u001b[0m\u001b[0;34m\u001b[0m\u001b[0;34m\u001b[0m\u001b[0m\n\u001b[0m\u001b[1;32m      9\u001b[0m             \u001b[0minp\u001b[0m\u001b[0;34m.\u001b[0m\u001b[0mreset_index\u001b[0m\u001b[0;34m(\u001b[0m\u001b[0;34m)\u001b[0m\u001b[0;34m\u001b[0m\u001b[0;34m\u001b[0m\u001b[0m\n\u001b[1;32m     10\u001b[0m             \u001b[0;32mfor\u001b[0m \u001b[0mn\u001b[0m\u001b[0;34m,\u001b[0m \u001b[0mmolecule\u001b[0m \u001b[0;32min\u001b[0m \u001b[0mtqdm\u001b[0m\u001b[0;34m(\u001b[0m\u001b[0menumerate\u001b[0m\u001b[0;34m(\u001b[0m\u001b[0minp\u001b[0m\u001b[0;34m)\u001b[0m\u001b[0;34m,\u001b[0m \u001b[0mtotal\u001b[0m\u001b[0;34m=\u001b[0m\u001b[0mlen\u001b[0m\u001b[0;34m(\u001b[0m\u001b[0minp\u001b[0m\u001b[0;34m)\u001b[0m\u001b[0;34m)\u001b[0m\u001b[0;34m:\u001b[0m\u001b[0;34m\u001b[0m\u001b[0;34m\u001b[0m\u001b[0m\n",
      "\u001b[0;32m~/miniconda3/envs/ssmiles1/lib/python3.9/site-packages/CGRtools/files/_mdl/rw.py\u001b[0m in \u001b[0;36m__call__\u001b[0;34m(cls, *args, **kwargs)\u001b[0m\n\u001b[1;32m     36\u001b[0m         \u001b[0;32melse\u001b[0m\u001b[0;34m:\u001b[0m\u001b[0;34m\u001b[0m\u001b[0;34m\u001b[0m\u001b[0m\n\u001b[1;32m     37\u001b[0m             \u001b[0mobj\u001b[0m \u001b[0;34m=\u001b[0m \u001b[0mobject\u001b[0m\u001b[0;34m.\u001b[0m\u001b[0m__new__\u001b[0m\u001b[0;34m(\u001b[0m\u001b[0mcls\u001b[0m\u001b[0;34m)\u001b[0m\u001b[0;34m\u001b[0m\u001b[0;34m\u001b[0m\u001b[0m\n\u001b[0;32m---> 38\u001b[0;31m         \u001b[0mobj\u001b[0m\u001b[0;34m.\u001b[0m\u001b[0m__init__\u001b[0m\u001b[0;34m(\u001b[0m\u001b[0;34m*\u001b[0m\u001b[0margs\u001b[0m\u001b[0;34m,\u001b[0m \u001b[0;34m**\u001b[0m\u001b[0mkwargs\u001b[0m\u001b[0;34m)\u001b[0m\u001b[0;34m\u001b[0m\u001b[0;34m\u001b[0m\u001b[0m\n\u001b[0m\u001b[1;32m     39\u001b[0m         \u001b[0;32mreturn\u001b[0m \u001b[0mobj\u001b[0m\u001b[0;34m\u001b[0m\u001b[0;34m\u001b[0m\u001b[0m\n\u001b[1;32m     40\u001b[0m \u001b[0;34m\u001b[0m\u001b[0m\n",
      "\u001b[0;32m~/miniconda3/envs/ssmiles1/lib/python3.9/site-packages/CGRtools/files/SDFrw.py\u001b[0m in \u001b[0;36m__init__\u001b[0;34m(self, file, indexable, **kwargs)\u001b[0m\n\u001b[1;32m     53\u001b[0m         \u001b[0;34m:\u001b[0m\u001b[0mparam\u001b[0m \u001b[0mignore_stereo\u001b[0m\u001b[0;34m:\u001b[0m \u001b[0mIgnore\u001b[0m \u001b[0mstereo\u001b[0m \u001b[0mdata\u001b[0m\u001b[0;34m.\u001b[0m\u001b[0;34m\u001b[0m\u001b[0;34m\u001b[0m\u001b[0m\n\u001b[1;32m     54\u001b[0m         \"\"\"\n\u001b[0;32m---> 55\u001b[0;31m         \u001b[0msuper\u001b[0m\u001b[0;34m(\u001b[0m\u001b[0;34m)\u001b[0m\u001b[0;34m.\u001b[0m\u001b[0m__init__\u001b[0m\u001b[0;34m(\u001b[0m\u001b[0mfile\u001b[0m\u001b[0;34m,\u001b[0m \u001b[0;34m**\u001b[0m\u001b[0mkwargs\u001b[0m\u001b[0;34m)\u001b[0m\u001b[0;34m\u001b[0m\u001b[0;34m\u001b[0m\u001b[0m\n\u001b[0m\u001b[1;32m     56\u001b[0m         \u001b[0mself\u001b[0m\u001b[0;34m.\u001b[0m\u001b[0m__file\u001b[0m \u001b[0;34m=\u001b[0m \u001b[0miter\u001b[0m\u001b[0;34m(\u001b[0m\u001b[0mself\u001b[0m\u001b[0;34m.\u001b[0m\u001b[0m_file\u001b[0m\u001b[0;34m.\u001b[0m\u001b[0mreadline\u001b[0m\u001b[0;34m,\u001b[0m \u001b[0;34m''\u001b[0m\u001b[0;34m)\u001b[0m\u001b[0;34m\u001b[0m\u001b[0;34m\u001b[0m\u001b[0m\n\u001b[1;32m     57\u001b[0m         \u001b[0mself\u001b[0m\u001b[0;34m.\u001b[0m\u001b[0m_data\u001b[0m \u001b[0;34m=\u001b[0m \u001b[0mself\u001b[0m\u001b[0;34m.\u001b[0m\u001b[0m__reader\u001b[0m\u001b[0;34m(\u001b[0m\u001b[0;34m)\u001b[0m\u001b[0;34m\u001b[0m\u001b[0;34m\u001b[0m\u001b[0m\n",
      "\u001b[0;32m~/miniconda3/envs/ssmiles1/lib/python3.9/site-packages/CGRtools/files/_mdl/rw.py\u001b[0m in \u001b[0;36m__init__\u001b[0;34m(self, file, **kwargs)\u001b[0m\n\u001b[1;32m     43\u001b[0m     \u001b[0;32mdef\u001b[0m \u001b[0m__init__\u001b[0m\u001b[0;34m(\u001b[0m\u001b[0mself\u001b[0m\u001b[0;34m,\u001b[0m \u001b[0mfile\u001b[0m\u001b[0;34m,\u001b[0m \u001b[0;34m**\u001b[0m\u001b[0mkwargs\u001b[0m\u001b[0;34m)\u001b[0m\u001b[0;34m:\u001b[0m\u001b[0;34m\u001b[0m\u001b[0;34m\u001b[0m\u001b[0m\n\u001b[1;32m     44\u001b[0m         \u001b[0;32mif\u001b[0m \u001b[0misinstance\u001b[0m\u001b[0;34m(\u001b[0m\u001b[0mfile\u001b[0m\u001b[0;34m,\u001b[0m \u001b[0mstr\u001b[0m\u001b[0;34m)\u001b[0m\u001b[0;34m:\u001b[0m\u001b[0;34m\u001b[0m\u001b[0;34m\u001b[0m\u001b[0m\n\u001b[0;32m---> 45\u001b[0;31m             \u001b[0mself\u001b[0m\u001b[0;34m.\u001b[0m\u001b[0m_file\u001b[0m \u001b[0;34m=\u001b[0m \u001b[0mopen\u001b[0m\u001b[0;34m(\u001b[0m\u001b[0mfile\u001b[0m\u001b[0;34m)\u001b[0m\u001b[0;34m\u001b[0m\u001b[0;34m\u001b[0m\u001b[0m\n\u001b[0m\u001b[1;32m     46\u001b[0m             \u001b[0mself\u001b[0m\u001b[0;34m.\u001b[0m\u001b[0m_is_buffer\u001b[0m \u001b[0;34m=\u001b[0m \u001b[0;32mFalse\u001b[0m\u001b[0;34m\u001b[0m\u001b[0;34m\u001b[0m\u001b[0m\n\u001b[1;32m     47\u001b[0m         \u001b[0;32melif\u001b[0m \u001b[0misinstance\u001b[0m\u001b[0;34m(\u001b[0m\u001b[0mfile\u001b[0m\u001b[0;34m,\u001b[0m \u001b[0mPath\u001b[0m\u001b[0;34m)\u001b[0m\u001b[0;34m:\u001b[0m\u001b[0;34m\u001b[0m\u001b[0;34m\u001b[0m\u001b[0m\n",
      "\u001b[0;31mFileNotFoundError\u001b[0m: [Errno 2] No such file or directory: '../data/Compound_000000001_000500000.sdf'"
     ]
    }
   ],
   "source": [
    "with open('pubchem_test.csv', 'w', newline='\\n') as out, \\\n",
    "open('pubchem_test_mistakes.csv', 'w', newline='\\n') as mistakes_out:\n",
    "    smi_writer = csv.writer(out, delimiter=',')\n",
    "    mistakes_writer = csv.writer(mistakes_out, delimiter=',')\n",
    "    fields_set = set()\n",
    "    fields_names = ['smiles'] + list(names_transfrom.values()) + module_headers\n",
    "    smi_writer.writerow(fields_names)\n",
    "    mistakes_writer.writerow(['pubchem_id'])\n",
    "    read_std_pubchem('Compound_000000001_000500000.sdf.gz', '../data/', smi_writer, mistakes_writer, names_transfrom, 10000)"
   ]
  },
  {
   "cell_type": "code",
   "execution_count": null,
   "metadata": {},
   "outputs": [],
   "source": []
  }
 ],
 "metadata": {
  "kernelspec": {
   "display_name": "Python 3 (ipykernel)",
   "language": "python",
   "name": "python3"
  },
  "language_info": {
   "codemirror_mode": {
    "name": "ipython",
    "version": 3
   },
   "file_extension": ".py",
   "mimetype": "text/x-python",
   "name": "python",
   "nbconvert_exporter": "python",
   "pygments_lexer": "ipython3",
   "version": "3.8.10"
  }
 },
 "nbformat": 4,
 "nbformat_minor": 4
}
