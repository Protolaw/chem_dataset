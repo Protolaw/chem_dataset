{
 "cells": [
  {
   "cell_type": "code",
   "execution_count": 2,
   "id": "6ba35cab",
   "metadata": {
    "collapsed": false,
    "jupyter": {
     "outputs_hidden": false
    },
    "pycharm": {
     "name": "#%%\n"
    }
   },
   "outputs": [],
   "source": [
    "import csv\n",
    "import os\n",
    "from math import floor"
   ]
  },
  {
   "cell_type": "code",
   "execution_count": 3,
   "id": "3b91f63b-f04c-4c50-b3a3-07f84a468c76",
   "metadata": {},
   "outputs": [],
   "source": [
    "path = os.path.join(os.getcwd()[:-9], 'data/processed/valid')\n",
    "\n",
    "file = 'clean.csv'\n",
    "\n",
    "head_list = ['rot_bonds', 'h_acc', 'h_don', 'heavy_atoms', 'ring_count', 'bonds_count']\n",
    "\n",
    "path_to_stat = os.path.join(path[:-9], \"stat/\")\n",
    "\n",
    "file = os.path.join(path, file)\n",
    "# interval range( every 50 ) if flag == 1 , limit is related to restriction of heavy_atoms quantity\n",
    "int_range = 50\n",
    "flag = 1\n",
    "limit = 100"
   ]
  },
  {
   "cell_type": "code",
   "execution_count": 4,
   "id": "f9b4b6d8",
   "metadata": {
    "collapsed": false,
    "jupyter": {
     "outputs_hidden": false
    },
    "pycharm": {
     "name": "#%%\n"
    }
   },
   "outputs": [],
   "source": [
    "def analyze(file, head_list):\n",
    "    list_dict = [{} for _ in range(len(head_list))]\n",
    "    with open(file, 'r') as inp:\n",
    "        lines = csv.reader(inp, delimiter='\\n')\n",
    "        for line in lines:\n",
    "            clmn = list()\n",
    "            for header in head_list:\n",
    "                clmn.append(list(line)[0].split(',').index(header))\n",
    "            break\n",
    "    with open(file, 'r') as inp:\n",
    "        lines = csv.reader(inp, delimiter=',')\n",
    "        for line in lines:\n",
    "            for i in clmn:\n",
    "                el = line[i].strip()\n",
    "                j = clmn.index(i)\n",
    "                if el not in list_dict[j]:\n",
    "                    list_dict[j][el] = 1\n",
    "                else:\n",
    "                    list_dict[j][el] += 1\n",
    "    return list_dict"
   ]
  },
  {
   "cell_type": "code",
   "execution_count": 5,
   "id": "3cccf2a5",
   "metadata": {
    "collapsed": false,
    "jupyter": {
     "outputs_hidden": false
    },
    "pycharm": {
     "name": "#%%\n"
    }
   },
   "outputs": [],
   "source": [
    "def write_to_scv(path, head_list, x):\n",
    "    for head in head_list:\n",
    "        stat_file = head + '.csv'\n",
    "        with open(os.path.join(path, stat_file), 'w', newline='\\n') as out:\n",
    "            data = csv.writer(out, delimiter=',')\n",
    "            if type(x) == list:\n",
    "                for i in list(x[head_list.index(head)].items()):\n",
    "                    if i[0] == head:\n",
    "                        data.writerow([i[0], 'molecules'])\n",
    "                        continue\n",
    "                    data.writerow(i)\n",
    "            if type(x) == dict:\n",
    "                for i in list(x.items()):\n",
    "                    if i[0] == head:\n",
    "                        data.writerow([i[0], 'molecules'])\n",
    "                        continue\n",
    "                    data.writerow(i)"
   ]
  },
  {
   "cell_type": "code",
   "execution_count": 6,
   "id": "324b6619",
   "metadata": {
    "collapsed": false,
    "jupyter": {
     "outputs_hidden": false
    },
    "pycharm": {
     "name": "#%%\n"
    }
   },
   "outputs": [],
   "source": [
    "def mol_mass_stat(file, int_range, flag, limit):\n",
    "    dict_mol_mass = {}\n",
    "    header = 'mol_mass'\n",
    "    with open(file, 'r') as inp:\n",
    "        lines = csv.reader(inp, delimiter='\\n')\n",
    "        for line in lines:\n",
    "            clmn = list(line)[0].split(',').index(header)\n",
    "            break\n",
    "    with open(file, 'r') as inp:\n",
    "        lines = csv.reader(inp, delimiter=',')\n",
    "        if flag == 0:\n",
    "            for line in lines:\n",
    "                if line[clmn] == header:\n",
    "                    dict_mol_mass[header] = 'molecules'\n",
    "                else:\n",
    "                    l = floor(float(line[clmn]) / int_range) * int_range\n",
    "                    if l not in dict_mol_mass.keys():\n",
    "                        dict_mol_mass[l] = 1\n",
    "                    else:\n",
    "                        dict_mol_mass[l] += 1\n",
    "        elif flag == 1:\n",
    "            for line in lines:\n",
    "                if line[clmn] == header:\n",
    "                    dict_mol_mass[header] = 'molecules'\n",
    "                else:\n",
    "                    # limit for heavy_atoms\n",
    "                    if int(line[8]) <= limit:\n",
    "                        buff = floor(float(line[clmn]) / int_range) * int_range\n",
    "                        if buff not in dict_mol_mass.keys():\n",
    "                            dict_mol_mass[buff] = 1\n",
    "                        else:\n",
    "                            dict_mol_mass[buff] += 1\n",
    "\n",
    "    return dict_mol_mass"
   ]
  },
  {
   "cell_type": "code",
   "execution_count": 7,
   "id": "5e9a4467-6e76-48d4-b65c-61659a50a259",
   "metadata": {},
   "outputs": [
    {
     "ename": "FileNotFoundError",
     "evalue": "[Errno 2] No such file or directory: '/home/almaz/Documents/project/chem_dataset/chem_dataset/data/processed/valid/clean.csv'",
     "output_type": "error",
     "traceback": [
      "\u001b[0;31m---------------------------------------------------------------------------\u001b[0m",
      "\u001b[0;31mFileNotFoundError\u001b[0m                         Traceback (most recent call last)",
      "\u001b[0;32m/tmp/ipykernel_65646/2329004049.py\u001b[0m in \u001b[0;36m<module>\u001b[0;34m\u001b[0m\n\u001b[0;32m----> 1\u001b[0;31m \u001b[0mdata\u001b[0m \u001b[0;34m=\u001b[0m \u001b[0manalyze\u001b[0m\u001b[0;34m(\u001b[0m\u001b[0mfile\u001b[0m\u001b[0;34m,\u001b[0m \u001b[0mhead_list\u001b[0m\u001b[0;34m)\u001b[0m\u001b[0;34m\u001b[0m\u001b[0;34m\u001b[0m\u001b[0m\n\u001b[0m\u001b[1;32m      2\u001b[0m \u001b[0mwrite_to_scv\u001b[0m\u001b[0;34m(\u001b[0m\u001b[0mpath_to_stat\u001b[0m\u001b[0;34m,\u001b[0m \u001b[0mhead_list\u001b[0m\u001b[0;34m,\u001b[0m \u001b[0mdata\u001b[0m\u001b[0;34m)\u001b[0m\u001b[0;34m\u001b[0m\u001b[0;34m\u001b[0m\u001b[0m\n\u001b[1;32m      3\u001b[0m \u001b[0mhead_list\u001b[0m \u001b[0;34m=\u001b[0m \u001b[0;34m[\u001b[0m\u001b[0;34m'mol_mass'\u001b[0m\u001b[0;34m]\u001b[0m\u001b[0;34m\u001b[0m\u001b[0;34m\u001b[0m\u001b[0m\n\u001b[1;32m      4\u001b[0m \u001b[0mdata\u001b[0m \u001b[0;34m=\u001b[0m \u001b[0mmol_mass_stat\u001b[0m\u001b[0;34m(\u001b[0m\u001b[0mfile\u001b[0m\u001b[0;34m,\u001b[0m \u001b[0mint_range\u001b[0m\u001b[0;34m,\u001b[0m \u001b[0mflag\u001b[0m\u001b[0;34m,\u001b[0m \u001b[0mlimit\u001b[0m\u001b[0;34m)\u001b[0m\u001b[0;34m\u001b[0m\u001b[0;34m\u001b[0m\u001b[0m\n\u001b[1;32m      5\u001b[0m \u001b[0mwrite_to_scv\u001b[0m\u001b[0;34m(\u001b[0m\u001b[0mpath_to_stat\u001b[0m\u001b[0;34m,\u001b[0m \u001b[0mhead_list\u001b[0m\u001b[0;34m,\u001b[0m \u001b[0mdata\u001b[0m\u001b[0;34m)\u001b[0m\u001b[0;34m\u001b[0m\u001b[0;34m\u001b[0m\u001b[0m\n",
      "\u001b[0;32m/tmp/ipykernel_65646/1953616798.py\u001b[0m in \u001b[0;36manalyze\u001b[0;34m(file, head_list)\u001b[0m\n\u001b[1;32m      1\u001b[0m \u001b[0;32mdef\u001b[0m \u001b[0manalyze\u001b[0m\u001b[0;34m(\u001b[0m\u001b[0mfile\u001b[0m\u001b[0;34m,\u001b[0m \u001b[0mhead_list\u001b[0m\u001b[0;34m)\u001b[0m\u001b[0;34m:\u001b[0m\u001b[0;34m\u001b[0m\u001b[0;34m\u001b[0m\u001b[0m\n\u001b[1;32m      2\u001b[0m     \u001b[0mlist_dict\u001b[0m \u001b[0;34m=\u001b[0m \u001b[0;34m[\u001b[0m\u001b[0;34m{\u001b[0m\u001b[0;34m}\u001b[0m \u001b[0;32mfor\u001b[0m \u001b[0m_\u001b[0m \u001b[0;32min\u001b[0m \u001b[0mrange\u001b[0m\u001b[0;34m(\u001b[0m\u001b[0mlen\u001b[0m\u001b[0;34m(\u001b[0m\u001b[0mhead_list\u001b[0m\u001b[0;34m)\u001b[0m\u001b[0;34m)\u001b[0m\u001b[0;34m]\u001b[0m\u001b[0;34m\u001b[0m\u001b[0;34m\u001b[0m\u001b[0m\n\u001b[0;32m----> 3\u001b[0;31m     \u001b[0;32mwith\u001b[0m \u001b[0mopen\u001b[0m\u001b[0;34m(\u001b[0m\u001b[0mfile\u001b[0m\u001b[0;34m,\u001b[0m \u001b[0;34m'r'\u001b[0m\u001b[0;34m)\u001b[0m \u001b[0;32mas\u001b[0m \u001b[0minp\u001b[0m\u001b[0;34m:\u001b[0m\u001b[0;34m\u001b[0m\u001b[0;34m\u001b[0m\u001b[0m\n\u001b[0m\u001b[1;32m      4\u001b[0m         \u001b[0mlines\u001b[0m \u001b[0;34m=\u001b[0m \u001b[0mcsv\u001b[0m\u001b[0;34m.\u001b[0m\u001b[0mreader\u001b[0m\u001b[0;34m(\u001b[0m\u001b[0minp\u001b[0m\u001b[0;34m,\u001b[0m \u001b[0mdelimiter\u001b[0m\u001b[0;34m=\u001b[0m\u001b[0;34m'\\n'\u001b[0m\u001b[0;34m)\u001b[0m\u001b[0;34m\u001b[0m\u001b[0;34m\u001b[0m\u001b[0m\n\u001b[1;32m      5\u001b[0m         \u001b[0;32mfor\u001b[0m \u001b[0mline\u001b[0m \u001b[0;32min\u001b[0m \u001b[0mlines\u001b[0m\u001b[0;34m:\u001b[0m\u001b[0;34m\u001b[0m\u001b[0;34m\u001b[0m\u001b[0m\n",
      "\u001b[0;31mFileNotFoundError\u001b[0m: [Errno 2] No such file or directory: '/home/almaz/Documents/project/chem_dataset/chem_dataset/data/processed/valid/clean.csv'"
     ]
    }
   ],
   "source": [
    "data = analyze(file, head_list)\n",
    "write_to_scv(path_to_stat, head_list, data)\n",
    "head_list = ['mol_mass']\n",
    "data = mol_mass_stat(file, int_range, flag, limit)\n",
    "write_to_scv(path_to_stat, head_list, data)"
   ]
  }
 ],
 "metadata": {
  "kernelspec": {
   "display_name": "Python 3 (ipykernel)",
   "language": "python",
   "name": "python3"
  },
  "language_info": {
   "codemirror_mode": {
    "name": "ipython",
    "version": 3
   },
   "file_extension": ".py",
   "mimetype": "text/x-python",
   "name": "python",
   "nbconvert_exporter": "python",
   "pygments_lexer": "ipython3",
   "version": "3.8.10"
  }
 },
 "nbformat": 4,
 "nbformat_minor": 5
}
