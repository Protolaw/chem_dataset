{
 "cells": [
  {
   "cell_type": "code",
   "execution_count": 25,
   "id": "ae41fe98-b31d-4972-b34b-3c7cc7f7e79f",
   "metadata": {},
   "outputs": [],
   "source": [
    "import csv\n",
    "import os\n",
    "import glob\n",
    "import pandas as pd\n",
    "import shutil"
   ]
  },
  {
   "cell_type": "code",
   "execution_count": 26,
   "id": "152cc6cf-5c01-4a5c-9914-408df5509d5c",
   "metadata": {},
   "outputs": [
    {
     "name": "stdout",
     "output_type": "stream",
     "text": [
      "/home/gilmullin/Documents/SberDatasets/sber_chem_datasets/tests/mis\n",
      "/home/gilmullin/Documents/SberDatasets/sber_chem_datasets/tests/mis/pubchem_test_mistakes_1_1_565.csv has been imported.\n",
      "/home/gilmullin/Documents/SberDatasets/sber_chem_datasets/tests/mis/pubchem_test_mistakes_2_565-1365.csv has been imported.\n",
      "/home/gilmullin/Documents/SberDatasets/sber_chem_datasets/tests/mis/pubchem_test_mistakes_3_1360-1485.csv has been imported.\n",
      "/home/gilmullin/Documents/SberDatasets/sber_chem_datasets/tests/mis/pubchem_test_mistakes_4_1485-1625.csv has been imported.\n",
      "/home/gilmullin/Documents/SberDatasets/sber_chem_datasets/tests/mis/u_pubchem_mistakes.csv has been imported.\n"
     ]
    }
   ],
   "source": [
    "# Склейка csv файлов\n",
    "\n",
    "path = \"/home/gilmullin/Documents/SberDatasets/sber_chem_datasets/tests\"\n",
    "print(os.getcwd())\n",
    "os.chdir(path)\n",
    "allFiles = glob.glob(path + \"/*.csv\")\n",
    "allFiles.sort()\n",
    "with open('pubchem_mod.csv', 'wb') as outfile:\n",
    "    for i, fname in enumerate(allFiles):\n",
    "        with open(fname, 'rb') as infile:\n",
    "            if i != 0:\n",
    "                infile.readline()\n",
    "            shutil.copyfileobj(infile, outfile)\n",
    "            print(fname + \" has been imported.\")"
   ]
  },
  {
   "cell_type": "code",
   "execution_count": null,
   "id": "bea9f45b-7b72-4059-a8fb-832dfc3fc2f9",
   "metadata": {},
   "outputs": [],
   "source": [
    "# with open('united_pubchem.csv', newline='') as csvfile:\n",
    "#     spamreader = csv.reader(csvfile, delimiter=' ', quotechar='|')\n",
    "#     for row in spamreader:\n",
    "#         print(', '.join(row))"
   ]
  }
 ],
 "metadata": {
  "kernelspec": {
   "display_name": "Python 3 (ipykernel)",
   "language": "python",
   "name": "python3"
  },
  "language_info": {
   "codemirror_mode": {
    "name": "ipython",
    "version": 3
   },
   "file_extension": ".py",
   "mimetype": "text/x-python",
   "name": "python",
   "nbconvert_exporter": "python",
   "pygments_lexer": "ipython3",
   "version": "3.9.7"
  }
 },
 "nbformat": 4,
 "nbformat_minor": 5
}