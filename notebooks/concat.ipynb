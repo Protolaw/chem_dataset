{
 "cells": [
  {
   "cell_type": "code",
   "execution_count": 2,
   "id": "ae41fe98-b31d-4972-b34b-3c7cc7f7e79f",
   "metadata": {},
   "outputs": [],
   "source": [
    "import csv\n",
    "import os\n",
    "import glob\n",
    "import shutil"
   ]
  },
  {
   "cell_type": "code",
   "execution_count": null,
   "id": "152cc6cf-5c01-4a5c-9914-408df5509d5c",
   "metadata": {},
   "outputs": [],
   "source": [
    "# Склейка csv файлов\n",
    "\n",
    "path = os.getcwd()\n",
    "s = input(\"Print path_to_csv from data/ ['raw', 'interim', 'external', 'processed']\")\n",
    "path = os.path.join(path[:-9], 'data', s)\n",
    "try:\n",
    "    os.chdir(path)\n",
    "except:\n",
    "    exit()\n",
    "file = 'united.csv'\n",
    "allFiles = glob.glob(path + \"/*.csv\")\n",
    "allFiles.sort()\n",
    "with open(file, 'wb') as outfile:\n",
    "    for i, fname in enumerate(allFiles):\n",
    "        with open(fname, 'rb') as infile:\n",
    "            if i != 0:\n",
    "                infile.readline()\n",
    "            shutil.copyfileobj(infile, outfile)\n",
    "            print(fname + \" has been imported.\")"
   ]
  },
  {
   "cell_type": "code",
   "execution_count": null,
   "id": "bea9f45b-7b72-4059-a8fb-832dfc3fc2f9",
   "metadata": {},
   "outputs": [],
   "source": [
    "# with open('united_pubchem.csv', newline='') as csvfile:\n",
    "#     spamreader = csv.reader(csvfile, delimiter=' ', quotechar='|')\n",
    "#     for row in spamreader:\n",
    "#         print(', '.join(row))"
   ]
  }
 ],
 "metadata": {
  "kernelspec": {
   "display_name": "Python 3 (ipykernel)",
   "language": "python",
   "name": "python3"
  },
  "language_info": {
   "codemirror_mode": {
    "name": "ipython",
    "version": 3
   },
   "file_extension": ".py",
   "mimetype": "text/x-python",
   "name": "python",
   "nbconvert_exporter": "python",
   "pygments_lexer": "ipython3",
   "version": "3.8.10"
  }
 },
 "nbformat": 4,
 "nbformat_minor": 5
}
