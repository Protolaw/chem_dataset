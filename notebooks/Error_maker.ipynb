{
 "cells": [
  {
   "cell_type": "code",
   "execution_count": 1,
   "id": "64cf9732-9164-45d1-b0aa-12f308f9799f",
   "metadata": {
    "pycharm": {
     "name": "#%%\n"
    }
   },
   "outputs": [],
   "source": [
    "from random import randint, choice"
   ]
  },
  {
   "cell_type": "code",
   "execution_count": 2,
   "id": "4fc42f7c-bd42-4f6c-af63-15673cc2ea90",
   "metadata": {
    "pycharm": {
     "name": "#%%\n"
    }
   },
   "outputs": [],
   "source": [
    "#    В качестве параметра функция принимает строку SMILES и возвращает строку SMILES с измененным знаком заряда при наличии таковой\n",
    "# Оосбенность:\n",
    "# 1) Строка может не изменить заряды\n",
    "# 2) Изменяться сразу несколько зарядов (как \"+\" так и \"-\")\n",
    "\n",
    "\n",
    "def invert_charges(smiles):\n",
    "    new_smiles = ''\n",
    "    for symbol in smiles:\n",
    "        if symbol == '+' and randint(0, 1):\n",
    "            symbol = '-'\n",
    "        elif symbol == '-' and randint(0, 1):\n",
    "            symbol = '+'\n",
    "        new_smiles += symbol\n",
    "    return new_smiles\n",
    "\n",
    "# def charge_err(smiles):\n",
    "#     try:\n",
    "#         x = randint(0,1)\n",
    "#         p_list, n_list = [], []\n",
    "#         if '+' in smiles and x == 0:\n",
    "#             for j in range(len(smiles)):\n",
    "#                 if smiles[j] == '+':\n",
    "#                     p_list.append(j)\n",
    "#             i = choice(p_list)\n",
    "#             return (smiles[0:i] + '-' + smiles[i + 1:])\n",
    "        \n",
    "#         if '-' in smiles:\n",
    "#             for j in range(len(smiles)):\n",
    "#                 if smiles[j] == '-' :\n",
    "#                     n_list.append(j)\n",
    "#             i = choice(n_list)\n",
    "#             return (smiles[0:i] + '+' + smiles[i + 1:])\n",
    "#     except:\n",
    "#         return smiles\n"
   ]
  },
  {
   "cell_type": "code",
   "execution_count": 3,
   "id": "2bff7fa2-b1ca-474e-a805-32307f59b4c9",
   "metadata": {
    "pycharm": {
     "name": "#%%\n"
    }
   },
   "outputs": [
    {
     "name": "stdout",
     "output_type": "stream",
     "text": [
      "C(C(=O)[O-])(=O)O.[Na+]\n",
      "C(C(=O)[O+])(=O)O.[Na+]\n"
     ]
    }
   ],
   "source": [
    "smiles = 'C(C(=O)[O-])(=O)O.[Na+]'\n",
    "rslt = invert_charges(smiles)\n",
    "print(smiles)\n",
    "print(rslt)"
   ]
  },
  {
   "cell_type": "code",
   "execution_count": 4,
   "id": "7916b443-9cae-4b26-a235-c811b84df000",
   "metadata": {
    "pycharm": {
     "name": "#%%\n"
    }
   },
   "outputs": [],
   "source": [
    "#    В качестве параметра функция принимает строку SMILES и возвращает строку SMILES с измененным открывающей/закрывающей круглой скобкой (\"(\", \")\") при наличии таковой\n",
    "# Оосбенность:\n",
    "# 1) Строка может не изменить скобки\n",
    "# 2) Изменяться сразу несколько скобок (как \"(\", так и \")\")\n",
    "\n",
    "\n",
    "def invert_brace(smiles):\n",
    "    new_smiles = ''\n",
    "    i = randint(0, len(smiles))\n",
    "    for symbol in smiles:\n",
    "        if symbol == ')' and randint(0, 1):\n",
    "            symbol = '('\n",
    "        elif symbol == '(' and randint(0, 1):\n",
    "            symbol = ')'\n",
    "        new_smiles += symbol\n",
    "    return new_smiles\n",
    "            \n",
    "# def brace_err(smiles):\n",
    "#     try:\n",
    "#         x = randint(0, 3)\n",
    "        \n",
    "#         op_list, cl_list = [], []\n",
    "#         ln = len(smiles)\n",
    "        \n",
    "#         if '(' in smiles and x == 0:\n",
    "#             for j in range(ln):\n",
    "#                 if smiles[j] == '(':\n",
    "#                     op_list.append(j)\n",
    "#             i = choice(op_list)\n",
    "#             return (smiles[0:i] + '' + smiles[i + 1:])\n",
    "        \n",
    "#         if ')' in smiles and x == 1:\n",
    "#             for j in range(ln):\n",
    "#                 if smiles[j] == ')' :\n",
    "#                     cl_list.append(j)\n",
    "#             i = choice(cl_list)\n",
    "#             return (smiles[0:i] + '' + smiles[i + 1:])\n",
    "    \n",
    "#         i = randint(0, ln)\n",
    "#         if x == 2:\n",
    "#             return (smiles[0:i] + ')' + smiles[i + 1:])\n",
    "#         else:\n",
    "#             return (smiles[0:i] + '(' + smiles[i + 1:])\n",
    "#     except:\n",
    "#         return smiles"
   ]
  },
  {
   "cell_type": "code",
   "execution_count": 5,
   "id": "8149907e-8a95-48f9-bc76-d8e496b44439",
   "metadata": {
    "pycharm": {
     "name": "#%%\n"
    }
   },
   "outputs": [
    {
     "name": "stdout",
     "output_type": "stream",
     "text": [
      "C(C(=O)[O-])(=O)O.[Na+]\n",
      "C(C(=O)[O-]))=O)O.[Na+]\n"
     ]
    }
   ],
   "source": [
    "smiles = 'C(C(=O)[O-])(=O)O.[Na+]'\n",
    "rslt = invert_brace(smiles)\n",
    "print(smiles)\n",
    "print(rslt)"
   ]
  },
  {
   "cell_type": "code",
   "execution_count": 6,
   "id": "6cdfaf1a-720b-4419-b36b-35a17ae90bbb",
   "metadata": {
    "pycharm": {
     "name": "#%%\n"
    }
   },
   "outputs": [],
   "source": [
    "#    В качестве параметра функция принимает строку SMILES и возвращает строку SMILES с измененным регистра с нижнего на верхний 1 определенного символа \n",
    "# Оосбенность:\n",
    "# 1) Строка останется прежней, если все символы с буквенные символы с врехним регистром\n",
    "# 2) Изменяться только 1 символ \n",
    "\n",
    "\n",
    "def lowercase_err(smiles):\n",
    "    if smiles.isupper() == False:\n",
    "        lc = ['c', 'o', 's', 'n', 'p']\n",
    "        g_list = []\n",
    "        for i in lc:\n",
    "            if i in smiles:\n",
    "                for j in range(len(smiles)):\n",
    "                    if smiles[j] == i:\n",
    "                        g_list.append(j)\n",
    "        i = choice(g_list)\n",
    "        return (smiles[0:i] + smiles[i].upper() + smiles[i + 1:])\n",
    "    else:\n",
    "        return smiles"
   ]
  },
  {
   "cell_type": "code",
   "execution_count": 7,
   "id": "10587a11-664e-4d32-855b-3a5bdd7e84e5",
   "metadata": {
    "pycharm": {
     "name": "#%%\n"
    }
   },
   "outputs": [
    {
     "name": "stdout",
     "output_type": "stream",
     "text": [
      "c1cc(ccc1)CC(N)CNc2cnc(c(-c3ccc4c(c(C)[nH]n4)c3)c2)-C5c(O)cccc5\n"
     ]
    }
   ],
   "source": [
    "smiles = 'c1cc(ccc1)CC(N)CNc2cnc(c(-c3ccc4c(c(C)[nH]n4)c3)c2)-c5c(O)cccc5'\n",
    "\n",
    "print (lowercase_err(smiles))"
   ]
  },
  {
   "cell_type": "code",
   "execution_count": 8,
   "id": "664db7c3-36f4-468e-8890-dc3365caf2e4",
   "metadata": {
    "pycharm": {
     "name": "#%%\n"
    }
   },
   "outputs": [],
   "source": [
    "#    В качестве параметра функция принимает строку SMILES и возвращает строку SMILES с удалением 1 числа (некорректный цикл)\n",
    "# Оосбенность:\n",
    "# 1) Строка останется прежней, если все в строке отв\\сутсвуют числа \n",
    "# 2) Удаляется только 1 символ \n",
    "\n",
    "def cycle_err(smiles):\n",
    "    try:\n",
    "        if any(c.isdigit() for c in smiles):\n",
    "            nbr_list = []\n",
    "            for j in range(len(smiles)):\n",
    "                if smiles[j].isdigit():\n",
    "                    nbr_list.append(j)\n",
    "            i = choice(nbr_list)\n",
    "            return (smiles[0:i] + '' + smiles[i + 1:])\n",
    "    except:\n",
    "        return smiles"
   ]
  },
  {
   "cell_type": "code",
   "execution_count": 9,
   "id": "214b5843-c14a-45c0-a25b-577ba1a88fd6",
   "metadata": {
    "pycharm": {
     "name": "#%%\n"
    }
   },
   "outputs": [
    {
     "name": "stdout",
     "output_type": "stream",
     "text": [
      "CNCCC[C@H]1c2cccnc2\n"
     ]
    }
   ],
   "source": [
    "smiles = 'CN1CCC[C@H]1c2cccnc2'\n",
    "print(cycle_err(smiles))"
   ]
  },
  {
   "cell_type": "code",
   "execution_count": null,
   "id": "2a42f065-4bcf-49df-9d37-65084745a4e9",
   "metadata": {
    "pycharm": {
     "name": "#%%\n"
    }
   },
   "outputs": [],
   "source": []
  }
 ],
 "metadata": {
  "kernelspec": {
   "display_name": "Python 3 (ipykernel)",
   "language": "python",
   "name": "python3"
  },
  "language_info": {
   "codemirror_mode": {
    "name": "ipython",
    "version": 3
   },
   "file_extension": ".py",
   "mimetype": "text/x-python",
   "name": "python",
   "nbconvert_exporter": "python",
   "pygments_lexer": "ipython3",
   "version": "3.9.7"
  }
 },
 "nbformat": 4,
 "nbformat_minor": 5
}