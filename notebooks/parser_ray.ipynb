{
 "cells": [
  {
   "cell_type": "code",
   "execution_count": 2,
   "id": "51a0f048-6e39-4087-8077-4aa8c741fbf0",
   "metadata": {},
   "outputs": [],
   "source": [
    "import csv\n",
    "import os\n",
    "from subprocess import run\n",
    "from typing import Optional, Union, List, Any\n",
    "\n",
    "import ray\n",
    "from CGRtools.containers import MoleculeContainer\n",
    "from CGRtools.exceptions import InvalidAromaticRing\n",
    "from CGRtools.files import SDFRead, SMILESRead\n",
    "from tqdm import tqdm\n",
    "\n",
    "smiles_parser = SMILESRead.create_parser(ignore=True, remap=False)"
   ]
  },
  {
   "cell_type": "code",
   "execution_count": null,
   "id": "af2ec9d4-1ac8-4b0f-8bec-fadff3aa6964",
   "metadata": {},
   "outputs": [],
   "source": [
    "def standardize_molecule(molecule: MoleculeContainer) -> Optional[MoleculeContainer]:\n",
    "    \"\"\"\n",
    "    :param molecule:\n",
    "    :return:\n",
    "    \"\"\"\n",
    "    if len(molecule) > 150 or len(molecule) < 2:\n",
    "        return None\n",
    "\n",
    "    bad_elements = set(range(58, 72))\n",
    "    bad_elements.update([10, 18, 36, 54])\n",
    "\n",
    "    bad_element_present = False\n",
    "    for _, atom in molecule.atoms():\n",
    "        if atom.atomic_number in bad_elements or atom.atomic_number > 84:\n",
    "            bad_element_present = True\n",
    "            break\n",
    "\n",
    "    if bad_element_present:\n",
    "        return None\n",
    "\n",
    "    conn_comp = molecule.connected_components_count\n",
    "    if conn_comp > 1:\n",
    "        return None\n",
    "\n",
    "    if molecule.is_radical:\n",
    "        return None\n",
    "\n",
    "    try:\n",
    "        molecule.kekule()\n",
    "        molecule.standardize(fix_stereo=False)\n",
    "        molecule.clean_isotopes()\n",
    "\n",
    "        if molecule.check_valence():\n",
    "            return None\n",
    "\n",
    "        molecule.implicify_hydrogens(fix_stereo=False)\n",
    "        molecule.remove_hydrogen_bonds(fix_stereo=False)\n",
    "        molecule.clean_stereo()\n",
    "        molecule.thiele()\n",
    "        return molecule\n",
    "    except InvalidAromaticRing:\n",
    "        return None"
   ]
  },
  {
   "cell_type": "code",
   "execution_count": null,
   "id": "01c3eab2-66a4-4919-91dd-b3b8e9fb80d7",
   "metadata": {},
   "outputs": [],
   "source": [
    "@ray.remote\n",
    "def convert_molecule(molecule: Union[MoleculeContainer, str]) -> Optional[MoleculeContainer]:\n",
    "    if type(molecule) == str:\n",
    "        molecule = smiles_parser(molecule)\n",
    "    return standardize_molecule(molecule)"
   ]
  },
  {
   "cell_type": "code",
   "execution_count": null,
   "id": "d4ad1f6f-40f2-4bbe-8334-a08286de6a56",
   "metadata": {},
   "outputs": [],
   "source": [
    "def process_batch(molecules: List[Union[MoleculeContainer, str]]) -> List[Optional[MoleculeContainer]]:\n",
    "    molecules_ids = [ray.put(mol) for mol in molecules]\n",
    "    del molecules\n",
    "    results_ids = [convert_molecule.remote(mol_id) for mol_id in molecules_ids]\n",
    "    results = ray.get(results_ids)\n",
    "    return results"
   ]
  },
  {
   "cell_type": "code",
   "execution_count": null,
   "id": "84c9e36e-83f4-46a9-bac1-eb2024e596ea",
   "metadata": {},
   "outputs": [],
   "source": [
    "def standardize_pubchem_batch(molecules: List[MoleculeContainer], pubchem_ids: List[int],\n",
    "                              std_writer: Any, mistakes_writer: Any, pubchem_meta: List[str]) -> None:\n",
    "    filtered_molecules = process_batch(molecules)\n",
    "    for pubchem_id, molecule in zip(pubchem_ids, filtered_molecules):\n",
    "        if molecule:\n",
    "            mol_line = [str(molecule)]\n",
    "            for key in pubchem_meta:\n",
    "                if key in molecule.meta.keys():\n",
    "                    mol_line.append(molecule.meta[key])\n",
    "                else:\n",
    "                    mol_line.append('nan')\n",
    "            mol_line.append(molecule.rings_count)\n",
    "            mol_line.append(molecule.molecular_mass)\n",
    "            mol_line.append(molecule.bonds_count)\n",
    "            std_writer.writerow(mol_line)\n",
    "        else:\n",
    "            mistakes_writer.writerow([pubchem_id])\n",
    "    del filtered_molecules"
   ]
  },
  {
   "cell_type": "code",
   "execution_count": null,
   "id": "498fc864-deba-4078-91e2-325a7c415be2",
   "metadata": {},
   "outputs": [],
   "source": [
    "def standardize_sdf_pubchem(name: str, std_writer: Any, mistakes_writer: Any,\n",
    "                            batch_size: int, pubchem_meta: List[str]) -> None:\n",
    "    \"\"\"\n",
    "    Принимает в качестве параметров: название архива, путь к этому архиву, файл для записи валидных данных,\n",
    "    файл для записи невалидных данных и количество обрабатываемых строк\n",
    "    1) Расхархивизация файлов\n",
    "    2) Считывание с файла (формата SDF) массива данных (построчно)\n",
    "    3) Передает данный массив в функцию handle_writing\n",
    "    \"\"\"\n",
    "    readed_molecules, readed_ids = [], []\n",
    "    with SDFRead(name, indexable=True) as inp:\n",
    "        inp.reset_index()\n",
    "        for n, molecule in enumerate(inp):\n",
    "            readed_molecules.append(molecule)\n",
    "            readed_ids.append(int(molecule.meta['PUBCHEM_COMPOUND_CID']))\n",
    "            if len(readed_molecules) == batch_size:\n",
    "                assert len(readed_ids) == batch_size\n",
    "                standardize_pubchem_batch(readed_molecules, readed_ids, std_writer, mistakes_writer, pubchem_meta)\n",
    "                del readed_molecules\n",
    "                readed_molecules = []\n",
    "                del readed_ids\n",
    "                readed_ids = []\n",
    "        if readed_molecules:\n",
    "            standardize_pubchem_batch(readed_molecules, readed_ids, std_writer, mistakes_writer, pubchem_meta)\n",
    "            del readed_molecules\n",
    "            del readed_ids\n",
    "        os.remove(name)"
   ]
  },
  {
   "cell_type": "code",
   "execution_count": null,
   "id": "48052544-cb31-4c54-9b9d-7a2bb48bad15",
   "metadata": {},
   "outputs": [],
   "source": [
    "def standardize_pubchem(input_files_path: str, output_file: str, mistake_file: str, batch_size: int) -> None:\n",
    "    pubchem_meta = ['PUBCHEM_COMPOUND_CID', 'PUBCHEM_OPENEYE_CAN_SMILES', 'PUBCHEM_IUPAC_OPENEYE_NAME',\n",
    "                    'PUBCHEM_CACTVS_ROTATABLE_BOND', 'PUBCHEM_XLOGP3_AA', 'PUBCHEM_CACTVS_HBOND_ACCEPTOR',\n",
    "                    'PUBCHEM_CACTVS_HBOND_DONOR', 'PUBCHEM_HEAVY_ATOM_COUNT']\n",
    "    pubchem_headers = ['pubchem_id', 'pubchem_smiles', 'iupac_name', 'rot_bonds',\n",
    "                       'logp', 'h_acc', 'h_don', 'heavy_atoms']\n",
    "    cgrtools_headers = ['ring_count', 'mol_mass', 'bonds_count']\n",
    "    files = os.listdir(input_files_path)\n",
    "    files.sort()\n",
    "    with open(output_file, 'w', newline='\\n') as standardized_out, open(mistake_file, 'w', newline='\\n') as mistakes_out:\n",
    "        std_mols_writer = csv.writer(standardized_out, delimiter=',')\n",
    "        mistakes_writer = csv.writer(mistakes_out, delimiter=',')\n",
    "        fields_names = ['smiles'] + pubchem_headers + cgrtools_headers\n",
    "        std_mols_writer.writerow(fields_names)\n",
    "        mistakes_writer.writerow(['pubchem_id'])\n",
    "        for file_name in tqdm(files[217:]):\n",
    "            if file_name[-2:] == 'gz':\n",
    "                file = input_files_path + file_name\n",
    "                name = file[:-3]\n",
    "                run([\"gunzip\", \"-k\", file])\n",
    "                standardize_sdf_pubchem(name, std_mols_writer, mistakes_writer, batch_size, pubchem_meta)"
   ]
  },
  {
   "cell_type": "code",
   "execution_count": 3,
   "id": "c5c69b54-8889-497a-bee5-01551d08f16d",
   "metadata": {},
   "outputs": [
    {
     "name": "stdout",
     "output_type": "stream",
     "text": [
      "/home/almaz/Documents/project/chem_dataset/chem_dataset/data/raw/\n"
     ]
    }
   ],
   "source": [
    "path = os.path.join(os.getcwd()[:-9], 'data/')\n",
    "output_file_path = os.path.join(path, 'processed/valid/pubchem_test.csv')\n",
    "mistakes_file_path = os.path.join(path, 'processed/mis/pubchem_test_mistakes.csv')\n",
    "path = os.path.join(path, 'raw/' )\n",
    "batch_size = 10000\n",
    "standardize_pubchem(path, output_file_path, mistakes_file_path, batch_size)"
   ]
  },
  {
   "cell_type": "code",
   "execution_count": null,
   "id": "b5200dc0-f1db-4f79-9645-d16d84decc9f",
   "metadata": {},
   "outputs": [],
   "source": []
  }
 ],
 "metadata": {
  "kernelspec": {
   "display_name": "Python 3 (ipykernel)",
   "language": "python",
   "name": "python3"
  },
  "language_info": {
   "codemirror_mode": {
    "name": "ipython",
    "version": 3
   },
   "file_extension": ".py",
   "mimetype": "text/x-python",
   "name": "python",
   "nbconvert_exporter": "python",
   "pygments_lexer": "ipython3",
   "version": "3.8.10"
  }
 },
 "nbformat": 4,
 "nbformat_minor": 5
}
