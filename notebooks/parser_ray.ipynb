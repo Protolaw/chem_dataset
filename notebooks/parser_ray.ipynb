{
 "cells": [
  {
   "cell_type": "code",
   "execution_count": 12,
   "id": "c5c69b54-8889-497a-bee5-01551d08f16d",
   "metadata": {},
   "outputs": [
    {
     "name": "stderr",
     "output_type": "stream",
     "text": [
      "  0%|                                                         | 0/110 [00:00<?, ?it/s]"
     ]
    },
    {
     "name": "stdout",
     "output_type": "stream",
     "text": [
      "\u001b[2m\u001b[36m(convert_molecule pid=347225)\u001b[0m :tas\n",
      "\u001b[2m\u001b[36m(convert_molecule pid=347225)\u001b[0m k_name:convert_molecule\n"
     ]
    },
    {
     "name": "stderr",
     "output_type": "stream",
     "text": [
      "  4%|█▌                                        | 4/110 [2:48:26<72:53:14, 2475.42s/it]"
     ]
    },
    {
     "name": "stdout",
     "output_type": "stream",
     "text": [
      "\u001b[2m\u001b[36m(convert_molecule pid=347218)\u001b[0m :task_na\n",
      "\u001b[2m\u001b[36m(convert_molecule pid=347218)\u001b[0m me:convert_molecule\n"
     ]
    },
    {
     "name": "stderr",
     "output_type": "stream",
     "text": [
      " 12%|████▋                                   | 13/110 [10:20:16<78:35:19, 2916.69s/it]"
     ]
    },
    {
     "name": "stdout",
     "output_type": "stream",
     "text": [
      "\u001b[2m\u001b[36m(convert_molecule pid=347225)\u001b[0m :task_na\n",
      "\u001b[2m\u001b[36m(convert_molecule pid=347225)\u001b[0m me:convert_molecule\n"
     ]
    },
    {
     "name": "stderr",
     "output_type": "stream",
     "text": [
      " 14%|█████▍                                  | 15/110 [11:52:17<74:53:19, 2837.89s/it]"
     ]
    },
    {
     "name": "stdout",
     "output_type": "stream",
     "text": [
      "\u001b[2m\u001b[36m(convert_molecule pid=347219)\u001b[0m :task_na\n",
      "\u001b[2m\u001b[36m(convert_molecule pid=347219)\u001b[0m me:convert_molecule\n"
     ]
    },
    {
     "name": "stderr",
     "output_type": "stream",
     "text": [
      " 16%|██████▌                                 | 18/110 [14:12:32<71:53:06, 2812.89s/it]\u001b[2m\u001b[36m(convert_molecule pid=347221)\u001b[0m :tas\n",
      "\u001b[2m\u001b[36m(convert_molecule pid=347221)\u001b[0m k_name:convert_molecule\n",
      " 17%|██████▉                                 | 19/110 [14:57:39<70:17:50, 2781.00s/it]"
     ]
    },
    {
     "name": "stdout",
     "output_type": "stream",
     "text": [
      "\u001b[2m\u001b[36m(c pid=347223)\u001b[0m onvert_molecule\n"
     ]
    },
    {
     "name": "stderr",
     "output_type": "stream",
     "text": [
      " 28%|███████████▎                            | 31/110 [25:51:03<65:18:03, 2975.75s/it]"
     ]
    },
    {
     "name": "stdout",
     "output_type": "stream",
     "text": [
      "\u001b[2m\u001b[36m(convert_molecule pid=347218)\u001b[0m :task_na\n",
      "\u001b[2m\u001b[36m(convert_molecule pid=347218)\u001b[0m me:convert_molecule\n"
     ]
    },
    {
     "name": "stderr",
     "output_type": "stream",
     "text": [
      " 40%|████████████████                        | 44/110 [35:48:50<43:12:05, 2356.45s/it]"
     ]
    },
    {
     "name": "stdout",
     "output_type": "stream",
     "text": [
      "\u001b[2m\u001b[36m(conve pid=347225)\u001b[0m rt_molecule\n"
     ]
    },
    {
     "name": "stderr",
     "output_type": "stream",
     "text": [
      " 45%|██████████████████▏                     | 50/110 [40:02:38<45:30:23, 2730.39s/it]"
     ]
    },
    {
     "name": "stdout",
     "output_type": "stream",
     "text": [
      "\u001b[2m\u001b[36m(convert_m pid=347223)\u001b[0m olecule\n"
     ]
    },
    {
     "name": "stderr",
     "output_type": "stream",
     "text": [
      " 51%|████████████████████▎                   | 56/110 [46:42:54<59:29:09, 3965.73s/it]"
     ]
    },
    {
     "name": "stdout",
     "output_type": "stream",
     "text": [
      "\u001b[2m\u001b[36m(convert_m pid=347222)\u001b[0m olecule\n"
     ]
    },
    {
     "name": "stderr",
     "output_type": "stream",
     "text": [
      " 52%|████████████████████▋                   | 57/110 [47:45:29<57:27:00, 3902.28s/it]"
     ]
    },
    {
     "name": "stdout",
     "output_type": "stream",
     "text": [
      "\u001b[2m\u001b[36m(convert_molecule pid=347225)\u001b[0m :tas\n",
      "\u001b[2m\u001b[36m(convert_molecule pid=347225)\u001b[0m k_name:convert_molecule\n"
     ]
    },
    {
     "name": "stderr",
     "output_type": "stream",
     "text": [
      " 59%|███████████████████████▋                | 65/110 [56:38:12<49:14:27, 3939.28s/it]\u001b[2m\u001b[36m(c pid=347220)\u001b[0m onvert_molecule\n",
      " 60%|████████████████████████                | 66/110 [57:47:33<48:57:33, 4005.76s/it]\u001b[2m\u001b[36m(convert_m pid=347220)\u001b[0m olecule\n",
      " 62%|████████████████████████▋               | 68/110 [59:39:30<43:00:03, 3685.79s/it]\u001b[2m\u001b[36m(convert_molecule pid=347222)\u001b[0m :task_na\n",
      "\u001b[2m\u001b[36m(convert_molecule pid=347222)\u001b[0m me:convert_molecule\n",
      " 68%|███████████████████████████▎            | 75/110 [65:52:17<31:38:23, 3254.38s/it]"
     ]
    },
    {
     "name": "stdout",
     "output_type": "stream",
     "text": [
      "\u001b[2m\u001b[36m(conve pid=347225)\u001b[0m rt_molecule\n"
     ]
    },
    {
     "name": "stderr",
     "output_type": "stream",
     "text": [
      " 85%|██████████████████████████████████▏     | 94/110 [74:29:08<11:57:15, 2689.69s/it]"
     ]
    },
    {
     "name": "stdout",
     "output_type": "stream",
     "text": [
      "\u001b[2m\u001b[36m(convert_m pid=347222)\u001b[0m olecule\n"
     ]
    },
    {
     "name": "stderr",
     "output_type": "stream",
     "text": [
      " 86%|██████████████████████████████████▌     | 95/110 [75:58:18<14:31:55, 3487.71s/it]"
     ]
    },
    {
     "name": "stdout",
     "output_type": "stream",
     "text": [
      "\u001b[2m\u001b[36m(c pid=347222)\u001b[0m onvert_molecule\n"
     ]
    },
    {
     "name": "stderr",
     "output_type": "stream",
     "text": [
      "100%|█████████████████████████████████████████| 110/110 [106:23:16<00:00, 3481.79s/it]\n"
     ]
    }
   ],
   "source": [
    "import csv\n",
    "import os\n",
    "from subprocess import run\n",
    "from typing import Optional, Union, List, Any\n",
    "\n",
    "import ray\n",
    "from CGRtools.containers import MoleculeContainer\n",
    "from CGRtools.exceptions import InvalidAromaticRing\n",
    "from CGRtools.files import SDFRead, SMILESRead\n",
    "from tqdm import tqdm\n",
    "\n",
    "smiles_parser = SMILESRead.create_parser(ignore=True, remap=False)\n",
    "\n",
    "\n",
    "def standardize_molecule(molecule: MoleculeContainer) -> Optional[MoleculeContainer]:\n",
    "    \"\"\"\n",
    "    :param molecule:\n",
    "    :return:\n",
    "    \"\"\"\n",
    "    if len(molecule) > 150 or len(molecule) < 2:\n",
    "        return None\n",
    "\n",
    "    bad_elements = set(range(58, 72))\n",
    "    bad_elements.update([10, 18, 36, 54])\n",
    "\n",
    "    bad_element_present = False\n",
    "    for _, atom in molecule.atoms():\n",
    "        if atom.atomic_number in bad_elements or atom.atomic_number > 84:\n",
    "            bad_element_present = True\n",
    "            break\n",
    "\n",
    "    if bad_element_present:\n",
    "        return None\n",
    "\n",
    "    conn_comp = molecule.connected_components_count\n",
    "    if conn_comp > 1:\n",
    "        return None\n",
    "\n",
    "    if molecule.is_radical:\n",
    "        return None\n",
    "\n",
    "    try:\n",
    "        molecule.kekule()\n",
    "        molecule.standardize(fix_stereo=False)\n",
    "        molecule.clean_isotopes()\n",
    "\n",
    "        if molecule.check_valence():\n",
    "            return None\n",
    "\n",
    "        molecule.implicify_hydrogens(fix_stereo=False)\n",
    "        molecule.remove_hydrogen_bonds(fix_stereo=False)\n",
    "        molecule.clean_stereo()\n",
    "        molecule.thiele()\n",
    "        return molecule\n",
    "    except InvalidAromaticRing:\n",
    "        return None\n",
    "\n",
    "\n",
    "@ray.remote\n",
    "def convert_molecule(molecule: Union[MoleculeContainer, str]) -> Optional[MoleculeContainer]:\n",
    "    if type(molecule) == str:\n",
    "        molecule = smiles_parser(molecule)\n",
    "    return standardize_molecule(molecule)\n",
    "\n",
    "\n",
    "def process_batch(molecules: List[Union[MoleculeContainer, str]]) -> List[Optional[MoleculeContainer]]:\n",
    "    molecules_ids = [ray.put(mol) for mol in molecules]\n",
    "    del molecules\n",
    "    results_ids = [convert_molecule.remote(mol_id) for mol_id in molecules_ids]\n",
    "    results = ray.get(results_ids)\n",
    "    return results\n",
    "\n",
    "\n",
    "def standardize_pubchem_batch(molecules: List[MoleculeContainer], pubchem_ids: List[int],\n",
    "                              std_writer: Any, mistakes_writer: Any, pubchem_meta: List[str]) -> None:\n",
    "    filtered_molecules = process_batch(molecules)\n",
    "    for pubchem_id, molecule in zip(pubchem_ids, filtered_molecules):\n",
    "        if molecule:\n",
    "            mol_line = [str(molecule)]\n",
    "            for key in pubchem_meta:\n",
    "                if key in molecule.meta.keys():\n",
    "                    mol_line.append(molecule.meta[key])\n",
    "                else:\n",
    "                    mol_line.append('nan')\n",
    "            mol_line.append(molecule.rings_count)\n",
    "            mol_line.append(molecule.molecular_mass)\n",
    "            mol_line.append(molecule.bonds_count)\n",
    "            std_writer.writerow(mol_line)\n",
    "        else:\n",
    "            mistakes_writer.writerow([pubchem_id])\n",
    "    del filtered_molecules\n",
    "\n",
    "\n",
    "def standardize_sdf_pubchem(name: str, std_writer: Any, mistakes_writer: Any,\n",
    "                            batch_size: int, pubchem_meta: List[str]) -> None:\n",
    "    \"\"\"\n",
    "    Принимает в качестве параметров: название архива, путь к этому архиву, файл для записи валидных данных,\n",
    "    файл для записи невалидных данных и количество обрабатываемых строк\n",
    "    1) Расхархивизация файлов\n",
    "    2) Считывание с файла (формата SDF) массива данных (построчно)\n",
    "    3) Передает данный массив в функцию handle_writing\n",
    "    \"\"\"\n",
    "    readed_molecules, readed_ids = [], []\n",
    "    with SDFRead(name, indexable=True) as inp:\n",
    "        inp.reset_index()\n",
    "        for n, molecule in enumerate(inp):\n",
    "            readed_molecules.append(molecule)\n",
    "            readed_ids.append(int(molecule.meta['PUBCHEM_COMPOUND_CID']))\n",
    "            if len(readed_molecules) == batch_size:\n",
    "                assert len(readed_ids) == batch_size\n",
    "                standardize_pubchem_batch(readed_molecules, readed_ids, std_writer, mistakes_writer, pubchem_meta)\n",
    "                del readed_molecules\n",
    "                readed_molecules = []\n",
    "                del readed_ids\n",
    "                readed_ids = []\n",
    "        if readed_molecules:\n",
    "            standardize_pubchem_batch(readed_molecules, readed_ids, std_writer, mistakes_writer, pubchem_meta)\n",
    "            del readed_molecules\n",
    "            del readed_ids\n",
    "        os.remove(name)\n",
    "\n",
    "\n",
    "def standardize_pubchem(input_files_path: str, output_file: str, mistake_file: str, batch_size: int) -> None:\n",
    "    pubchem_meta = ['PUBCHEM_COMPOUND_CID', 'PUBCHEM_OPENEYE_CAN_SMILES', 'PUBCHEM_IUPAC_OPENEYE_NAME',\n",
    "                    'PUBCHEM_CACTVS_ROTATABLE_BOND', 'PUBCHEM_XLOGP3_AA', 'PUBCHEM_CACTVS_HBOND_ACCEPTOR',\n",
    "                    'PUBCHEM_CACTVS_HBOND_DONOR', 'PUBCHEM_HEAVY_ATOM_COUNT']\n",
    "    pubchem_headers = ['pubchem_id', 'pubchem_smiles', 'iupac_name', 'rot_bonds',\n",
    "                       'logp', 'h_acc', 'h_don', 'heavy_atoms']\n",
    "    cgrtools_headers = ['ring_count', 'mol_mass', 'bonds_count']\n",
    "    files = os.listdir(input_files_path)\n",
    "    files.sort()\n",
    "    with open(output_file, 'w', newline='\\n') as standardized_out, open(mistake_file, 'w', newline='\\n') as mistakes_out:\n",
    "        std_mols_writer = csv.writer(standardized_out, delimiter=',')\n",
    "        mistakes_writer = csv.writer(mistakes_out, delimiter=',')\n",
    "        fields_names = ['smiles'] + pubchem_headers + cgrtools_headers\n",
    "        std_mols_writer.writerow(fields_names)\n",
    "        mistakes_writer.writerow(['pubchem_id'])\n",
    "        for file_name in tqdm(files[217:]):\n",
    "            if file_name[-2:] == 'gz':\n",
    "                file = input_files_path + file_name\n",
    "                name = file[:-3]\n",
    "                run([\"gunzip\", \"-k\", file])\n",
    "                standardize_sdf_pubchem(name, std_mols_writer, mistakes_writer, batch_size, pubchem_meta)\n",
    "\n",
    "\n",
    "def main():\n",
    "    \"\"\"\n",
    "    Функция заходит в рабочее простанство, которое содержит архивы (метаданные базы данных [в формате SDF]),\n",
    "    далее инициализирует (открывает) 2 csv-файла\n",
    "    1 - для валидных даных, 2 - для данных с ошибками\n",
    "    далее определяет заголовки строк - список\n",
    "    По 1 файлу обрабатывает отправляя в функцию read_std_pubchem\n",
    "    \"\"\"\n",
    "    path = '/home/gilmullin/Documents/SberDatasets/data/'\n",
    "    output_file_path = 'ray_test.csv'\n",
    "    mistakes_file_path = 'ray_mistakes.csv'\n",
    "    batch_size = 10000\n",
    "    # path = '/home/almaz/Documents/project/sber_chem_datasets/files/'\n",
    "    standardize_pubchem(path, output_file_path, mistakes_file_path, batch_size)\n",
    "\n",
    "\n",
    "if __name__ == '__main__':\n",
    "    main()"
   ]
  },
  {
   "cell_type": "code",
   "execution_count": null,
   "id": "95052e71-a847-4eef-82c0-993b7cfd2085",
   "metadata": {},
   "outputs": [],
   "source": []
  },
  {
   "cell_type": "code",
   "execution_count": null,
   "id": "9de80bc1-0450-446f-89bd-6486e0cbd5c9",
   "metadata": {},
   "outputs": [],
   "source": []
  }
 ],
 "metadata": {
  "kernelspec": {
   "display_name": "Python 3 (ipykernel)",
   "language": "python",
   "name": "python3"
  },
  "language_info": {
   "codemirror_mode": {
    "name": "ipython",
    "version": 3
   },
   "file_extension": ".py",
   "mimetype": "text/x-python",
   "name": "python",
   "nbconvert_exporter": "python",
   "pygments_lexer": "ipython3",
   "version": "3.9.7"
  }
 },
 "nbformat": 4,
 "nbformat_minor": 5
}
