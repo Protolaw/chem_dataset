{
 "cells": [
  {
   "cell_type": "code",
   "execution_count": 1,
   "id": "c39d170c-8ac4-4bf9-8585-6757ee1d1175",
   "metadata": {},
   "outputs": [],
   "source": [
    "from CGRtools.files import SDFRead, SDFWrite, SMILESRead\n",
    "from CGRtools.containers import MoleculeContainer\n",
    "import csv"
   ]
  },
  {
   "cell_type": "code",
   "execution_count": 2,
   "id": "e18a81d0-5320-43b4-bc2e-c31864d4cbb7",
   "metadata": {},
   "outputs": [
    {
     "ename": "AttributeError",
     "evalue": "'SDFRead' object has no attribute 'meta'",
     "output_type": "error",
     "traceback": [
      "\u001b[0;31m---------------------------------------------------------------------------\u001b[0m",
      "\u001b[0;31mAttributeError\u001b[0m                            Traceback (most recent call last)",
      "\u001b[0;32m/tmp/ipykernel_5121/4125371883.py\u001b[0m in \u001b[0;36m<module>\u001b[0;34m\u001b[0m\n\u001b[1;32m      3\u001b[0m \u001b[0mfile\u001b[0m \u001b[0;34m=\u001b[0m \u001b[0mpath\u001b[0m \u001b[0;34m+\u001b[0m \u001b[0mfile_name\u001b[0m\u001b[0;34m\u001b[0m\u001b[0;34m\u001b[0m\u001b[0m\n\u001b[1;32m      4\u001b[0m \u001b[0;32mwith\u001b[0m \u001b[0mSDFRead\u001b[0m\u001b[0;34m(\u001b[0m\u001b[0mfile\u001b[0m\u001b[0;34m,\u001b[0m \u001b[0mindexable\u001b[0m\u001b[0;34m=\u001b[0m\u001b[0;32mTrue\u001b[0m\u001b[0;34m)\u001b[0m \u001b[0;32mas\u001b[0m \u001b[0minp\u001b[0m\u001b[0;34m:\u001b[0m\u001b[0;34m\u001b[0m\u001b[0;34m\u001b[0m\u001b[0m\n\u001b[0;32m----> 5\u001b[0;31m     \u001b[0minp\u001b[0m\u001b[0;34m.\u001b[0m\u001b[0mmeta\u001b[0m\u001b[0;34m\u001b[0m\u001b[0;34m\u001b[0m\u001b[0m\n\u001b[0m",
      "\u001b[0;31mAttributeError\u001b[0m: 'SDFRead' object has no attribute 'meta'"
     ]
    }
   ],
   "source": [
    "file_name = 'Structure2D_CID_136374423.sdf'\n",
    "path = '/home/gilmullin/Documents/SberDatasets/fail/'\n",
    "file = path + file_name\n",
    "with SDFRead(file, indexable=True) as inp:\n",
    "    mol = next(inp)"
   ]
  },
  {
   "cell_type": "code",
   "execution_count": 2,
   "id": "86a467bc-abbf-45dd-aa39-5ceb5df88c76",
   "metadata": {},
   "outputs": [],
   "source": [
    "smiles_parser = SMILESRead.create_parser()\n",
    "unique_hashes = set()\n",
    "with open('file.csv', 'r') as inp:\n",
    "    for line in inp:\n",
    "        elements = line.strip().split()\n",
    "        mol = smiles_parser(elements[0])\n",
    "        length_before = len(unique_hashes)\n",
    "        unique_hashes.add(hash(mol))\n",
    "        length_after  = len(unique_hashes)\n",
    "        if length_before < length_after:\n",
    "            out.write(line)"
   ]
  },
  {
   "cell_type": "code",
   "execution_count": null,
   "id": "cdbac27d-15fe-4524-8a75-b4922dc54b98",
   "metadata": {},
   "outputs": [],
   "source": []
  }
 ],
 "metadata": {
  "kernelspec": {
   "display_name": "Python 3 (ipykernel)",
   "language": "python",
   "name": "python3"
  },
  "language_info": {
   "codemirror_mode": {
    "name": "ipython",
    "version": 3
   },
   "file_extension": ".py",
   "mimetype": "text/x-python",
   "name": "python",
   "nbconvert_exporter": "python",
   "pygments_lexer": "ipython3",
   "version": "3.9.7"
  }
 },
 "nbformat": 4,
 "nbformat_minor": 5
}
