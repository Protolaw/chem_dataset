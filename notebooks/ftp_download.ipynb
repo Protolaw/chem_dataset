{
 "cells": [
  {
   "cell_type": "code",
   "execution_count": 4,
   "metadata": {
    "tags": []
   },
   "outputs": [],
   "source": [
    "import os\n",
    "import ftplib\n",
    "from tqdm import tqdm"
   ]
  },
  {
   "cell_type": "code",
   "execution_count": null,
   "metadata": {},
   "outputs": [],
   "source": [
    "path = os.getcwd()\n",
    "path = os.path.join(path[:-3], 'data/raw/')\n",
    "ftp_addr = 'ftp.ncbi.nlm.nih.gov'\n",
    "ftp_path = 'pubchem/Compound/CURRENT-Full/SDF/'\n",
    "ftp_download(path,ftp_addr, ftp_path)"
   ]
  },
  {
   "cell_type": "code",
   "execution_count": null,
   "metadata": {},
   "outputs": [],
   "source": [
    "ftp = ftplib.FTP(ftp_addr)\n",
    "ftp.login()\n",
    "ftp.cwd(ftp_path)\n",
    "filenames = ftp.nlst()\n",
    "filenames.sort()\n",
    "curr_files = os.listdir(path)\n",
    "for filename in tqdm(filenames):\n",
    "    try:\n",
    "        if filename not in curr_files and filename[-3:] != 'md5':\n",
    "            out = path + filename\n",
    "            with open(out, 'wb') as f:\n",
    "                ftp.retrbinary('RETR ' + filename, f.write)\n",
    "    except ftplib.error_perm:\n",
    "        pass\n",
    "ftp.quit()"
   ]
  }
 ],
 "metadata": {
  "kernelspec": {
   "display_name": "Python 3 (ipykernel)",
   "language": "python",
   "name": "python3"
  },
  "language_info": {
   "codemirror_mode": {
    "name": "ipython",
    "version": 3
   },
   "file_extension": ".py",
   "mimetype": "text/x-python",
   "name": "python",
   "nbconvert_exporter": "python",
   "pygments_lexer": "ipython3",
   "version": "3.9.7"
  }
 },
 "nbformat": 4,
 "nbformat_minor": 4
}
